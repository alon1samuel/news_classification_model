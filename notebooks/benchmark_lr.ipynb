{
 "cells": [
  {
   "cell_type": "code",
   "execution_count": 1,
   "id": "beef91e9",
   "metadata": {},
   "outputs": [],
   "source": [
    "# This is the Logistic regression benchmark\n",
    "\n",
    "\n",
    "from sklearn import linear_model\n",
    "from sklearn.metrics import accuracy_score\n",
    "from sklearn import metrics\n",
    "from src import data_handler\n",
    "import numpy as np\n",
    "\n"
   ]
  },
  {
   "cell_type": "code",
   "execution_count": 2,
   "id": "5fff857b",
   "metadata": {},
   "outputs": [],
   "source": [
    "# Relevant functions\n",
    "def predict_classification(data, regressor):\n",
    "    documents_regression = regressor.predict(data)\n",
    "    documents_classification = np.round(documents_regression)\n",
    "    return documents_classification\n",
    "\n",
    "def check_results(data_classification, data_target):\n",
    "    accuracy_res = accuracy_score(data_target, data_classification)\n",
    "    print(f\"Accuracy of prediction is - {accuracy_res:.4f}\")\n",
    "\n"
   ]
  },
  {
   "cell_type": "code",
   "execution_count": 3,
   "id": "c9a0070e",
   "metadata": {},
   "outputs": [
    {
     "name": "stdout",
     "output_type": "stream",
     "text": [
      "2373 documents\n",
      "4 categories\n"
     ]
    }
   ],
   "source": [
    "# Get data\n",
    "newsgroups_train, newsgroups_test = data_handler.get_20newsgroups_data()\n",
    "\n",
    "X_train, X_test = data_handler.vectorize_text(newsgroups_train.data, newsgroups_test.data)\n"
   ]
  },
  {
   "cell_type": "code",
   "execution_count": 4,
   "id": "07679fee",
   "metadata": {},
   "outputs": [
    {
     "data": {
      "text/plain": [
       "LogisticRegression()"
      ]
     },
     "execution_count": 4,
     "metadata": {},
     "output_type": "execute_result"
    }
   ],
   "source": [
    "# Train the model using the training sets\n",
    "regr = linear_model.LogisticRegression()\n",
    "regr.fit(X_train, newsgroups_train.target)\n"
   ]
  },
  {
   "cell_type": "code",
   "execution_count": 5,
   "id": "897d3a7d",
   "metadata": {},
   "outputs": [
    {
     "name": "stdout",
     "output_type": "stream",
     "text": [
      "Results for train set\n",
      "Accuracy of prediction is - 0.9819\n",
      "Results for test set\n",
      "Accuracy of prediction is - 0.8892\n",
      "Confusion matrix - \n",
      "[[362  12   1   1]\n",
      " [ 25 351  47  18]\n",
      " [  8  21 332  16]\n",
      " [  1   9  16 359]]\n"
     ]
    }
   ],
   "source": [
    "# Predict and check results \n",
    "print(f\"Results for train set\")\n",
    "train_classification = predict_classification(X_train, regr) \n",
    "check_results(train_classification, newsgroups_train.target)\n",
    "\n",
    "print(f\"Results for test set\")\n",
    "test_classification = predict_classification(X_test, regr) \n",
    "check_results(test_classification, newsgroups_test.target)\n",
    "\n",
    "print(f\"Confusion matrix - \")\n",
    "print(metrics.confusion_matrix(test_classification,newsgroups_test.target))"
   ]
  }
 ],
 "metadata": {
  "kernelspec": {
   "display_name": "Python 3",
   "language": "python",
   "name": "python3"
  },
  "language_info": {
   "codemirror_mode": {
    "name": "ipython",
    "version": 3
   },
   "file_extension": ".py",
   "mimetype": "text/x-python",
   "name": "python",
   "nbconvert_exporter": "python",
   "pygments_lexer": "ipython3",
   "version": "3.7.10"
  }
 },
 "nbformat": 4,
 "nbformat_minor": 5
}
