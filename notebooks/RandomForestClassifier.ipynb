{
 "cells": [
  {
   "cell_type": "code",
   "execution_count": 1,
   "id": "a039f3ed",
   "metadata": {},
   "outputs": [
    {
     "output_type": "error",
     "ename": "ModuleNotFoundError",
     "evalue": "No module named 'src'",
     "traceback": [
      "\u001b[0;31m---------------------------------------------------------------------------\u001b[0m",
      "\u001b[0;31mModuleNotFoundError\u001b[0m                       Traceback (most recent call last)",
      "\u001b[0;32m<ipython-input-1-0c0152611047>\u001b[0m in \u001b[0;36m<module>\u001b[0;34m\u001b[0m\n\u001b[1;32m      7\u001b[0m \u001b[0;32mimport\u001b[0m \u001b[0mtqdm\u001b[0m\u001b[0;34m\u001b[0m\u001b[0;34m\u001b[0m\u001b[0m\n\u001b[1;32m      8\u001b[0m \u001b[0;34m\u001b[0m\u001b[0m\n\u001b[0;32m----> 9\u001b[0;31m \u001b[0;32mfrom\u001b[0m \u001b[0msrc\u001b[0m \u001b[0;32mimport\u001b[0m \u001b[0mdata_handler\u001b[0m\u001b[0;34m\u001b[0m\u001b[0;34m\u001b[0m\u001b[0m\n\u001b[0m\u001b[1;32m     10\u001b[0m \u001b[0mRANDOM_STATE\u001b[0m \u001b[0;34m=\u001b[0m \u001b[0;36m123\u001b[0m\u001b[0;34m\u001b[0m\u001b[0;34m\u001b[0m\u001b[0m\n\u001b[1;32m     11\u001b[0m \u001b[0;34m\u001b[0m\u001b[0m\n",
      "\u001b[0;31mModuleNotFoundError\u001b[0m: No module named 'src'"
     ]
    }
   ],
   "source": [
    "# Framework using - https://scikit-learn.org/stable/auto_examples/ensemble/plot_ensemble_oob.html#sphx-glr-auto-examples-ensemble-plot-ensemble-oob-py\n",
    "\n",
    "from sklearn.ensemble import RandomForestClassifier\n",
    "from collections import OrderedDict\n",
    "import matplotlib.pyplot as plt\n",
    "from sklearn import metrics\n",
    "import tqdm\n",
    "\n",
    "from src import data_handler\n",
    "RANDOM_STATE = 123\n",
    "\n"
   ]
  },
  {
   "cell_type": "code",
   "execution_count": null,
   "id": "88529d29",
   "metadata": {},
   "outputs": [],
   "source": [
    "# Get the data\n",
    "newsgroups_train, _ = data_handler.get_20newsgroups_data()\n",
    "\n",
    "X_train, X_test = data_handler.vectorize_text(newsgroups_train.data, newsgroups_test.data)\n",
    "y_train = newsgroups_train.target\n",
    "y_test = newsgroups_test.target\n"
   ]
  },
  {
   "cell_type": "code",
   "execution_count": null,
   "id": "975169a4",
   "metadata": {},
   "outputs": [],
   "source": [
    "\n",
    "# Build classifiers\n",
    "ensemble_clfs = [\n",
    "    (\"RandomForestClassifier, max_features='sqrt'\",\n",
    "        RandomForestClassifier(warm_start=True, oob_score=True,\n",
    "                               max_features=\"sqrt\",\n",
    "                               random_state=RANDOM_STATE)),\n",
    "    (\"RandomForestClassifier, max_features='log2'\",\n",
    "        RandomForestClassifier(warm_start=True, max_features='log2',\n",
    "                               oob_score=True,\n",
    "                               random_state=RANDOM_STATE))\n",
    "]\n"
   ]
  },
  {
   "cell_type": "code",
   "execution_count": null,
   "id": "0f19bfe8",
   "metadata": {},
   "outputs": [],
   "source": [
    "\n",
    "# Map a classifier name to a list of (<n_estimators>, <error rate>) pairs.\n",
    "error_rate = OrderedDict((label, []) for label, _ in ensemble_clfs)\n",
    "accuracy_rate = OrderedDict((label, []) for label, _ in ensemble_clfs)\n",
    "\n",
    "\n",
    "# Range of `n_estimators` values to explore.\n",
    "min_estimators = 140\n",
    "max_estimators = 200\n",
    "\n",
    "best_acc = 0\n",
    "best_cm = {}\n"
   ]
  },
  {
   "cell_type": "code",
   "execution_count": null,
   "id": "770b6484",
   "metadata": {},
   "outputs": [],
   "source": [
    "# Run grid search\n",
    "\n",
    "for label, clf in ensemble_clfs:\n",
    "    print(f\"Working on - {label} classifier\")\n",
    "    for i in tqdm.tqdm(range(min_estimators, max_estimators + 1)):\n",
    "        clf.set_params(n_estimators=i)\n",
    "        clf.fit(X_train, y_train)\n",
    "\n",
    "        current_pred = clf.predict(X_test)\n",
    "        accuracy = metrics.accuracy_score(current_pred, y_test)\n",
    "        if accuracy> best_acc:\n",
    "            best_cm['cm'] = metrics.confusion_matrix(current_pred, y_test)\n",
    "            best_cm['estimators'] = i\n",
    "            best_cm['label'] = label\n",
    "            best_cm['acc'] = accuracy\n",
    "\n",
    "        accuracy_rate[label].append((i, accuracy))\n"
   ]
  },
  {
   "cell_type": "code",
   "execution_count": null,
   "id": "09416646",
   "metadata": {},
   "outputs": [],
   "source": [
    "print(\"Best model confusion matrix:\")\n",
    "for key in best_cm.keys():\n",
    "    print(f\"{key} - {best_cm[key]}\")\n"
   ]
  },
  {
   "cell_type": "code",
   "execution_count": null,
   "id": "4fb0bab4",
   "metadata": {},
   "outputs": [],
   "source": [
    "# Plot accuracy of the models\n",
    "plt.figure()\n",
    "for label, clf_acc in accuracy_rate.items():\n",
    "    xs, ys = zip(*clf_acc)\n",
    "    plt.plot(xs, ys, label=label)\n",
    "\n",
    "plt.xlim(min_estimators, max_estimators)\n",
    "plt.xlabel(\"n_estimators\")\n",
    "plt.ylabel(\"Accuracy\")\n",
    "plt.legend(loc=\"upper right\")\n",
    "plt.show()\n"
   ]
  }
 ],
 "metadata": {
  "kernelspec": {
   "name": "python3710jvsc74a57bd0886444c3568480228a87faf015d4063cbd6f72f307c28564cb5cfd9659bb1cb3",
   "display_name": "Python 3.7.10 64-bit ('try_cudf': conda)"
  },
  "language_info": {
   "codemirror_mode": {
    "name": "ipython",
    "version": 3
   },
   "file_extension": ".py",
   "mimetype": "text/x-python",
   "name": "python",
   "nbconvert_exporter": "python",
   "pygments_lexer": "ipython3",
   "version": "3.7.10"
  }
 },
 "nbformat": 4,
 "nbformat_minor": 5
}